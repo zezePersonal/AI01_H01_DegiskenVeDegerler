{
 "cells": [
  {
   "cell_type": "markdown",
   "metadata": {},
   "source": [
    "# Python Degiskenlere Giris\n",
    "\n",
    "#, ##, ### ile baslayarak baslik boylari secilebilir. ya da vurgulamak istenirse,\n",
    "ben **xx** vurguluyorum gibi\n",
    "zz: aslinda jupiter notebook'un kendi syntaxi var."
   ]
  },
  {
   "cell_type": "code",
   "execution_count": 2,
   "metadata": {},
   "outputs": [
    {
     "name": "stdout",
     "output_type": "stream",
     "text": [
      "test\n"
     ]
    }
   ],
   "source": [
    "print(\"test\")"
   ]
  },
  {
   "cell_type": "code",
   "execution_count": 3,
   "metadata": {},
   "outputs": [],
   "source": [
    "# ve ilk kod blogu baslar."
   ]
  },
  {
   "cell_type": "code",
   "execution_count": 4,
   "metadata": {},
   "outputs": [
    {
     "data": {
      "text/plain": [
       "'Hello'"
      ]
     },
     "execution_count": 4,
     "metadata": {},
     "output_type": "execute_result"
    }
   ],
   "source": [
    "\"Hello\"   #notebooka ozel, pratiklik var"
   ]
  },
  {
   "cell_type": "code",
   "execution_count": 5,
   "metadata": {},
   "outputs": [
    {
     "name": "stdout",
     "output_type": "stream",
     "text": [
      "Hello\n"
     ]
    }
   ],
   "source": [
    "print(\"Hello\")"
   ]
  },
  {
   "cell_type": "markdown",
   "metadata": {},
   "source": [
    "# Python Yapi Taslari\n",
    "\n",
    "3 temel yapi tasi varmis.\n",
    "\n",
    "- Sabitler\n",
    "    * Herhangi bir degerin sabit olarak tanimlanmasidir. Ornegin pi = 3.14, 'Emre' Buradaki degerler sabitlerdir.\n",
    "- Fonksiyonlar\n",
    "    * Birden fazla islemi yapmak icin bir is yiginini tek bir isleve (function) cevirerek daha anlasilabilir ve daha kucuk kodlar yazabiliriz.\n",
    "- Degiskenler\n",
    "    * Degiskenler, herhangi bir degerin saklanmasina yardimci olan degiskenlerdir. Ornegin name, age, city gibi."
   ]
  },
  {
   "cell_type": "markdown",
   "metadata": {},
   "source": [
    "# Sabitler"
   ]
  },
  {
   "cell_type": "code",
   "execution_count": 13,
   "metadata": {},
   "outputs": [
    {
     "name": "stdout",
     "output_type": "stream",
     "text": [
      "My name is John\n"
     ]
    }
   ],
   "source": [
    "# Sabitler\n",
    "\n",
    "print(\"My name is John\")"
   ]
  },
  {
   "cell_type": "code",
   "execution_count": 14,
   "metadata": {},
   "outputs": [
    {
     "data": {
      "text/plain": [
       "'\\nAddition\\nSubstraction\\nMultiplication\\nDivision\\nExponent    **\\nMod         %\\n'"
      ]
     },
     "execution_count": 14,
     "metadata": {},
     "output_type": "execute_result"
    }
   ],
   "source": [
    "# Matematiksel Islemler (Sabitler)\n",
    "\n",
    "'''\n",
    "Addition\n",
    "Substraction\n",
    "Multiplication\n",
    "Division\n",
    "Exponent    **\n",
    "Mod         %\n",
    "'''"
   ]
  },
  {
   "cell_type": "code",
   "execution_count": 15,
   "metadata": {},
   "outputs": [
    {
     "name": "stdout",
     "output_type": "stream",
     "text": [
      "8\n"
     ]
    }
   ],
   "source": [
    "print(4*2)  # gibi"
   ]
  },
  {
   "cell_type": "code",
   "execution_count": 16,
   "metadata": {},
   "outputs": [
    {
     "name": "stdout",
     "output_type": "stream",
     "text": [
      "9\n"
     ]
    }
   ],
   "source": [
    "print(3**2)  # gibi"
   ]
  },
  {
   "cell_type": "code",
   "execution_count": 17,
   "metadata": {},
   "outputs": [
    {
     "name": "stdout",
     "output_type": "stream",
     "text": [
      "1\n"
     ]
    }
   ],
   "source": [
    "print (10%3)  # gibi"
   ]
  },
  {
   "cell_type": "markdown",
   "metadata": {},
   "source": [
    "## Degiskenler"
   ]
  },
  {
   "cell_type": "code",
   "execution_count": 18,
   "metadata": {},
   "outputs": [
    {
     "name": "stdout",
     "output_type": "stream",
     "text": [
      "Emre\n"
     ]
    }
   ],
   "source": [
    "isim = 'Emre'\n",
    "print(isim)\n",
    "\n",
    "# hoca buralarda pytontutor uzerinden flowu gosterdi."
   ]
  },
  {
   "cell_type": "code",
   "execution_count": 19,
   "metadata": {},
   "outputs": [
    {
     "name": "stdout",
     "output_type": "stream",
     "text": [
      "5\n"
     ]
    }
   ],
   "source": [
    "toplama = 3 + 2\n",
    "print(toplama)"
   ]
  },
  {
   "cell_type": "markdown",
   "metadata": {},
   "source": [
    "# Degiskenlerden Fonksiyonlara Dogru"
   ]
  },
  {
   "cell_type": "code",
   "execution_count": 20,
   "metadata": {},
   "outputs": [
    {
     "name": "stdout",
     "output_type": "stream",
     "text": [
      "78.5\n",
      "126230400.0\n"
     ]
    }
   ],
   "source": [
    "print(3.14 * 5 * 5)  # dairenini alani\n",
    "print(4 * 365.25 * 24 * 60 * 60)  # 4 yildaki saniye sayisi"
   ]
  },
  {
   "cell_type": "code",
   "execution_count": 22,
   "metadata": {},
   "outputs": [
    {
     "name": "stdout",
     "output_type": "stream",
     "text": [
      "126230400.0\n",
      "4 yil icindeki saniye sayisi 126230400.0 saniyedir\n"
     ]
    }
   ],
   "source": [
    "# 4 yilda kac saniye oldugunu gosteren program\n",
    "\n",
    "year_count = 4\n",
    "year_day_number = 365.25\n",
    "hour_count = 24\n",
    "minute_count = 60\n",
    "second_count = 60\n",
    "\n",
    "result = year_count * year_day_number * hour_count * minute_count * second_count\n",
    "\n",
    "print(result)\n",
    "print(f\"4 yil icindeki saniye sayisi {result} saniyedir\")"
   ]
  },
  {
   "cell_type": "code",
   "execution_count": 23,
   "metadata": {},
   "outputs": [
    {
     "name": "stdout",
     "output_type": "stream",
     "text": [
      "4 yilda dogan bebek sayisi 365250.0 adettir.\n"
     ]
    }
   ],
   "source": [
    "# mini odev\n",
    "# 4 Yilda kac tane bebek dogdugunu hesaplayin, varsayim gunde 250 tane bebek doguyor \n",
    "\n",
    "year_count = 4\n",
    "day_count = 365.25\n",
    "child_count = 250\n",
    "\n",
    "result = year_count * day_count * child_count\n",
    "\n",
    "print(f\"4 yilda dogan bebek sayisi {result} adettir.\")"
   ]
  },
  {
   "cell_type": "code",
   "execution_count": 27,
   "metadata": {},
   "outputs": [
    {
     "name": "stdout",
     "output_type": "stream",
     "text": [
      "Dairenin alani 78.5 dir\n",
      "Karenin alani 16 dir\n",
      "Dikdortgenin alani 12 dir\n"
     ]
    }
   ],
   "source": [
    "# mini odev 2\n",
    "# Bir dairenin alanini hesaplayan bir kod yazin\n",
    "\n",
    "r = 5\n",
    "pi = 3.14\n",
    "\n",
    "area_circle = pi*r**2\n",
    "\n",
    "print(f\"Dairenin alani {area_circle} dir\")\n",
    "\n",
    "# Bir karenin alanini hesaplayan bir kod yazin\n",
    "\n",
    "a = 4\n",
    "area_square = a**2\n",
    "\n",
    "print(f\"Karenin alani {area_square} dir\")\n",
    "\n",
    "# Bir karenin alanini hesaplayan bir kod yazin\n",
    "\n",
    "x = 4\n",
    "y = 3\n",
    "area_rectangle = x*y\n",
    "\n",
    "print(f\"Dikdortgenin alani {area_rectangle} dir\")\n",
    "# "
   ]
  },
  {
   "cell_type": "code",
   "execution_count": null,
   "metadata": {},
   "outputs": [],
   "source": []
  }
 ],
 "metadata": {
  "kernelspec": {
   "display_name": "h01_venv",
   "language": "python",
   "name": "python3"
  },
  "language_info": {
   "codemirror_mode": {
    "name": "ipython",
    "version": 3
   },
   "file_extension": ".py",
   "mimetype": "text/x-python",
   "name": "python",
   "nbconvert_exporter": "python",
   "pygments_lexer": "ipython3",
   "version": "3.12.1"
  }
 },
 "nbformat": 4,
 "nbformat_minor": 2
}
