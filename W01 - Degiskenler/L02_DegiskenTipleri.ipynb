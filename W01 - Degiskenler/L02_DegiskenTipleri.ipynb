{
 "cells": [
  {
   "cell_type": "markdown",
   "metadata": {},
   "source": [
    "# Day 2 - Degisken Tipleri"
   ]
  },
  {
   "cell_type": "markdown",
   "metadata": {},
   "source": [
    "## Python'da olusturdugumuz her degiskenin bir tipi vardir. Bunlar sirasiyla integer, float, string ve boolean olarak dorde ayrilir. Sirasiyla hepsini inceleyelim."
   ]
  },
  {
   "cell_type": "markdown",
   "metadata": {},
   "source": [
    "### Ilk tipimiz integer ve tam sayilar"
   ]
  },
  {
   "cell_type": "code",
   "execution_count": null,
   "metadata": {},
   "outputs": [],
   "source": [
    "'''\n",
    "    integers 1, 2, 3, 4. -1, -2, -3, -4 gibi ondaliksiz tam sayi tipleridir.\n",
    "'''"
   ]
  },
  {
   "cell_type": "code",
   "execution_count": 2,
   "metadata": {},
   "outputs": [
    {
     "name": "stdout",
     "output_type": "stream",
     "text": [
      "14\n",
      "<class 'int'>\n"
     ]
    }
   ],
   "source": [
    "x = 14\n",
    "print(x)\n",
    "print(type(x))"
   ]
  },
  {
   "cell_type": "code",
   "execution_count": 3,
   "metadata": {},
   "outputs": [
    {
     "data": {
      "text/plain": [
       "'\\n    float 1.4, 1.3, 1.00 gibi nokta iceren bir ondalikli sayi tipleridir\\n'"
      ]
     },
     "execution_count": 3,
     "metadata": {},
     "output_type": "execute_result"
    }
   ],
   "source": [
    "'''\n",
    "    float 1.4, 1.3, 1.00 gibi nokta iceren bir ondalikli sayi tipleridir\n",
    "'''"
   ]
  },
  {
   "cell_type": "code",
   "execution_count": 4,
   "metadata": {},
   "outputs": [
    {
     "name": "stdout",
     "output_type": "stream",
     "text": [
      "3.142332131232132\n",
      "<class 'float'>\n"
     ]
    }
   ],
   "source": [
    "pi = 3.142332131232132131 \n",
    "\n",
    "print(pi)\n",
    "print(type(pi))"
   ]
  },
  {
   "cell_type": "code",
   "execution_count": 12,
   "metadata": {},
   "outputs": [
    {
     "name": "stdout",
     "output_type": "stream",
     "text": [
      "3.142857142857143\n",
      "<class 'float'>\n"
     ]
    }
   ],
   "source": [
    "almost_pi = 22/7\n",
    "print(almost_pi)\n",
    "print(type(almost_pi))"
   ]
  },
  {
   "cell_type": "code",
   "execution_count": 13,
   "metadata": {},
   "outputs": [
    {
     "name": "stdout",
     "output_type": "stream",
     "text": [
      "5.0\n",
      "<class 'float'>\n"
     ]
    }
   ],
   "source": [
    "division_ex = 10/2\n",
    "print(division_ex)\n",
    "print(type(division_ex))"
   ]
  },
  {
   "cell_type": "code",
   "execution_count": 14,
   "metadata": {},
   "outputs": [
    {
     "name": "stdout",
     "output_type": "stream",
     "text": [
      "3\n",
      "<class 'int'>\n"
     ]
    }
   ],
   "source": [
    "# round kullanip sadece 2 ondalik getirmek istersek\n",
    "\n",
    "almost_pi_rounded_0 = round(almost_pi)\n",
    "print(almost_pi_rounded_0)\n",
    "print(type(almost_pi_rounded_0))  # int'e dondu "
   ]
  },
  {
   "cell_type": "code",
   "execution_count": 16,
   "metadata": {},
   "outputs": [
    {
     "name": "stdout",
     "output_type": "stream",
     "text": [
      "3.14\n",
      "<class 'float'>\n"
     ]
    }
   ],
   "source": [
    "almost_pi_rounded_2 = round(almost_pi, 2)\n",
    "print(almost_pi_rounded_2)\n",
    "print(type(almost_pi_rounded_2))"
   ]
  },
  {
   "cell_type": "code",
   "execution_count": 17,
   "metadata": {},
   "outputs": [
    {
     "data": {
      "text/plain": [
       "'\\n    booleans\\n    boolean tipleri iki tane degeri temsil eder, true or false\\n'"
      ]
     },
     "execution_count": 17,
     "metadata": {},
     "output_type": "execute_result"
    }
   ],
   "source": [
    "'''\n",
    "    booleans\n",
    "    boolean tipleri iki tane degeri temsil eder, true or false\n",
    "'''"
   ]
  },
  {
   "cell_type": "code",
   "execution_count": 18,
   "metadata": {},
   "outputs": [],
   "source": [
    "buyuk_sayi = 5\n",
    "kucuk_sayi = 2\n",
    "ortanca_sayi = 3"
   ]
  },
  {
   "cell_type": "code",
   "execution_count": 19,
   "metadata": {},
   "outputs": [
    {
     "name": "stdout",
     "output_type": "stream",
     "text": [
      "True\n"
     ]
    }
   ],
   "source": [
    "print(buyuk_sayi>kucuk_sayi)"
   ]
  },
  {
   "cell_type": "code",
   "execution_count": 20,
   "metadata": {},
   "outputs": [
    {
     "name": "stdout",
     "output_type": "stream",
     "text": [
      "Karislastirmanin sonucu True\n",
      "<class 'bool'>\n"
     ]
    }
   ],
   "source": [
    "comparison1 = buyuk_sayi > kucuk_sayi\n",
    "\n",
    "print(f\"Karislastirmanin sonucu {comparison1}\")\n",
    "print(type(comparison1))"
   ]
  },
  {
   "cell_type": "code",
   "execution_count": 21,
   "metadata": {},
   "outputs": [
    {
     "name": "stdout",
     "output_type": "stream",
     "text": [
      "Ikinci karsilastirmanin sonucu False\n"
     ]
    }
   ],
   "source": [
    "comparison2 = ortanca_sayi < kucuk_sayi\n",
    "print(f\"Ikinci karsilastirmanin sonucu {comparison2}\")\n"
   ]
  },
  {
   "cell_type": "code",
   "execution_count": 22,
   "metadata": {},
   "outputs": [
    {
     "name": "stdout",
     "output_type": "stream",
     "text": [
      "Buyuk sayi kucuk sayiya esit midir? False\n"
     ]
    }
   ],
   "source": [
    "comparison3 = buyuk_sayi == kucuk_sayi\n",
    "print(f\"Buyuk sayi kucuk sayiya esit midir? {comparison3}\")"
   ]
  },
  {
   "cell_type": "code",
   "execution_count": 25,
   "metadata": {},
   "outputs": [
    {
     "name": "stdout",
     "output_type": "stream",
     "text": [
      "Ortanca sayi buyuk sayiya esit degildir degil mi? True\n"
     ]
    }
   ],
   "source": [
    "comparison4 = ortanca_sayi != buyuk_sayi\n",
    "print(f\"Ortanca sayi buyuk sayiya esit degildir degil mi? {comparison4}\")"
   ]
  },
  {
   "cell_type": "code",
   "execution_count": 26,
   "metadata": {},
   "outputs": [],
   "source": [
    "# True ayni zamanda 1, false ayni zamanda 0 anlamina gelir. Hoca, bit mantiginindan anlatti."
   ]
  },
  {
   "cell_type": "code",
   "execution_count": 27,
   "metadata": {},
   "outputs": [
    {
     "name": "stdout",
     "output_type": "stream",
     "text": [
      "True\n"
     ]
    }
   ],
   "source": [
    "print(True)"
   ]
  },
  {
   "cell_type": "code",
   "execution_count": 28,
   "metadata": {},
   "outputs": [
    {
     "name": "stdout",
     "output_type": "stream",
     "text": [
      "1\n"
     ]
    }
   ],
   "source": [
    "print(1)"
   ]
  },
  {
   "cell_type": "code",
   "execution_count": 30,
   "metadata": {},
   "outputs": [
    {
     "name": "stdout",
     "output_type": "stream",
     "text": [
      "10\n"
     ]
    }
   ],
   "source": [
    "print(True*10)  # 1 oldugu icin"
   ]
  },
  {
   "cell_type": "code",
   "execution_count": 31,
   "metadata": {},
   "outputs": [
    {
     "name": "stdout",
     "output_type": "stream",
     "text": [
      "0\n"
     ]
    }
   ],
   "source": [
    "print(False*121)  # 0 oldugu icin"
   ]
  },
  {
   "cell_type": "code",
   "execution_count": 32,
   "metadata": {},
   "outputs": [],
   "source": [
    "# Hoca: Yukaridaki true ve false ile carpim ozellikle yapay zeka kodlamasinda siklikla kullaniyormus."
   ]
  },
  {
   "cell_type": "code",
   "execution_count": null,
   "metadata": {},
   "outputs": [],
   "source": [
    "'''\n",
    "    String veri tipi --> Metinsel ifadeler\n",
    "\n",
    "        her turlu karateri kapsayan bir veri tipidir. Hoca ASCII karakterlerini regex uzerinden anlatti.\n",
    "\n",
    "\n",
    "'''"
   ]
  },
  {
   "cell_type": "code",
   "execution_count": 35,
   "metadata": {},
   "outputs": [
    {
     "name": "stdout",
     "output_type": "stream",
     "text": [
      "<class 'str'>\n",
      "<class 'str'>\n",
      "<class 'str'>\n",
      "<class 'str'>\n",
      "<class 'str'>\n"
     ]
    }
   ],
   "source": [
    "str1 = \"my name is John\"  # normal bir cumle\n",
    "str2 = \"19.01.2001\"  # dogum tarihi\n",
    "str3 = \"43912437946\"  # tckn\n",
    "str4 = \"TR IBAN 12 12 12 1212 \"  # iban number\n",
    "str5 = \"yunusemrek558@gmail.com\"  # email\n",
    "\n",
    "# Her sekli alir diyoruz\n",
    "\n",
    "print(type(str1))\n",
    "print(type(str2))\n",
    "print(type(str3))\n",
    "print(type(str4))\n",
    "print(type(str5))"
   ]
  },
  {
   "cell_type": "code",
   "execution_count": 36,
   "metadata": {},
   "outputs": [],
   "source": [
    "# Mola 14:10 - 14:30\n",
    "\n",
    "# sonrasinda tip donusumleri"
   ]
  },
  {
   "cell_type": "code",
   "execution_count": 43,
   "metadata": {},
   "outputs": [
    {
     "name": "stdout",
     "output_type": "stream",
     "text": [
      "1.23123\n",
      "<class 'str'>\n"
     ]
    }
   ],
   "source": [
    "# Donusum Tipleri\n",
    "\n",
    "my_number_str = \"1.23123\"\n",
    "print(my_number_str)\n",
    "print(type(my_number_str))"
   ]
  },
  {
   "cell_type": "code",
   "execution_count": 45,
   "metadata": {},
   "outputs": [
    {
     "name": "stdout",
     "output_type": "stream",
     "text": [
      "1.23123\n",
      "<class 'float'>\n"
     ]
    }
   ],
   "source": [
    "# Tip Fonksiyonlari\n",
    "# integer icin int(), float icin float(), string icin str(), boolean icin bool()\n",
    "\n",
    "my_number_float = float(my_number_str)\n",
    "print(my_number_float)\n",
    "print(type(my_number_float))"
   ]
  },
  {
   "cell_type": "code",
   "execution_count": 41,
   "metadata": {},
   "outputs": [
    {
     "data": {
      "text/plain": [
       "\"\\n    Python'da her sabit degerin bir tipi vardir. Bunu zaten biliyoruz. Ayni zamanda her tipin de bir fonksiyonu vardir. Bunu da yukarida gorduk.\\n    Python'da her tipin kendine ozel gelen metodlari vardir. Ve her tipin kendine ozel islem kisitlari vardir.\\n\""
      ]
     },
     "execution_count": 41,
     "metadata": {},
     "output_type": "execute_result"
    }
   ],
   "source": [
    "# Tip Donusumlerinin Onemi\n",
    "'''\n",
    "    Python'da her sabit degerin bir tipi vardir. Bunu zaten biliyoruz. Ayni zamanda her tipin de bir fonksiyonu vardir. Bunu da yukarida gorduk.\n",
    "    Python'da her tipin kendine ozel gelen metodlari vardir. Ve her tipin kendine ozel islem kisitlari vardir.\n",
    "'''"
   ]
  },
  {
   "cell_type": "code",
   "execution_count": 51,
   "metadata": {},
   "outputs": [
    {
     "ename": "TypeError",
     "evalue": "can only concatenate str (not \"int\") to str",
     "output_type": "error",
     "traceback": [
      "\u001b[0;31m---------------------------------------------------------------------------\u001b[0m",
      "\u001b[0;31mTypeError\u001b[0m                                 Traceback (most recent call last)",
      "Cell \u001b[0;32mIn[51], line 1\u001b[0m\n\u001b[0;32m----> 1\u001b[0m \u001b[38;5;28mprint\u001b[39m(\u001b[43mmy_number_str\u001b[49m\u001b[38;5;241;43m+\u001b[39;49m\u001b[38;5;241;43m5\u001b[39;49m)\n\u001b[1;32m      3\u001b[0m \u001b[38;5;66;03m# Donusum yapmazsan alirsin bu hatayi \u001b[39;00m\n\u001b[1;32m      4\u001b[0m \u001b[38;5;66;03m# can only concatenate str (not \"int\") to str\u001b[39;00m\n\u001b[1;32m      6\u001b[0m \u001b[38;5;28mprint\u001b[39m(my_number_str \u001b[38;5;241m+\u001b[39m \u001b[38;5;124m'\u001b[39m\u001b[38;5;124m test metin\u001b[39m\u001b[38;5;124m'\u001b[39m)  \u001b[38;5;66;03m# aritk concat oluyor\u001b[39;00m\n",
      "\u001b[0;31mTypeError\u001b[0m: can only concatenate str (not \"int\") to str"
     ]
    }
   ],
   "source": [
    "print(my_number_str+5)\n",
    "\n",
    "# Donusum yapmazsan alirsin bu hatayi \n",
    "# can only concatenate str (not \"int\") to str\n"
   ]
  },
  {
   "cell_type": "code",
   "execution_count": 52,
   "metadata": {},
   "outputs": [
    {
     "name": "stdout",
     "output_type": "stream",
     "text": [
      "1.23123 test metin\n"
     ]
    }
   ],
   "source": [
    "print(my_number_str + ' test metin')  # aritk concat oluyor"
   ]
  },
  {
   "cell_type": "code",
   "execution_count": 53,
   "metadata": {},
   "outputs": [
    {
     "name": "stdout",
     "output_type": "stream",
     "text": [
      "5.23123\n"
     ]
    }
   ],
   "source": [
    "# Stringden floata donusturdugumuz degiskenle yaparsak islem tammamdir.\n",
    " \n",
    "print(my_number_float+4)"
   ]
  },
  {
   "cell_type": "code",
   "execution_count": 54,
   "metadata": {},
   "outputs": [
    {
     "ename": "ValueError",
     "evalue": "could not convert string to float: 'emre123'",
     "output_type": "error",
     "traceback": [
      "\u001b[0;31m---------------------------------------------------------------------------\u001b[0m",
      "\u001b[0;31mValueError\u001b[0m                                Traceback (most recent call last)",
      "Cell \u001b[0;32mIn[54], line 2\u001b[0m\n\u001b[1;32m      1\u001b[0m \u001b[38;5;28mstr\u001b[39m \u001b[38;5;241m=\u001b[39m \u001b[38;5;124m\"\u001b[39m\u001b[38;5;124memre123\u001b[39m\u001b[38;5;124m\"\u001b[39m\n\u001b[0;32m----> 2\u001b[0m str_float \u001b[38;5;241m=\u001b[39m \u001b[38;5;28;43mfloat\u001b[39;49m\u001b[43m(\u001b[49m\u001b[38;5;28;43mstr\u001b[39;49m\u001b[43m)\u001b[49m\n",
      "\u001b[0;31mValueError\u001b[0m: could not convert string to float: 'emre123'"
     ]
    }
   ],
   "source": [
    "str = \"emre123\"\n",
    "str_float = float(str)"
   ]
  },
  {
   "cell_type": "code",
   "execution_count": 56,
   "metadata": {},
   "outputs": [
    {
     "name": "stdout",
     "output_type": "stream",
     "text": [
      "2\n"
     ]
    }
   ],
   "source": [
    "# ancak integerden floata ya da floatdan integere donusumler rahatlikla yapilir\n",
    "\n",
    "f = 2.14\n",
    "i = int(f)\n",
    "print(i)"
   ]
  },
  {
   "cell_type": "code",
   "execution_count": 63,
   "metadata": {},
   "outputs": [
    {
     "name": "stdout",
     "output_type": "stream",
     "text": [
      "\n",
      "    N1 islemcisisinin haftalik maliyeti $1.98468, aylik maliyeti $7.93872,\n",
      "    N2 islemcisisinin haftalik maliyeti $1.98468, aylik maliyeti $7.93872\n",
      "    E2 islemcisisinin haftalik maliyeti $1.3694000000000002, aylik maliyeti $5.477600000000001\n",
      "    A2 islemcisisinin haftalik maliyeti $1.98468, aylik maliyeti $7.93872\n",
      "    G2 islemcisisinin haftalik maliyeti $1.56884, aylik maliyeti $6.27536\n",
      "\n",
      "\n",
      "    N1 islemcisisinin haftalik maliyeti $1.98, aylik maliyeti $7.94,\n",
      "    N2 islemcisisinin haftalik maliyeti $1.98, aylik maliyeti $7.94\n",
      "    E2 islemcisisinin haftalik maliyeti $1.37, aylik maliyeti $5.48\n",
      "    A2 islemcisisinin haftalik maliyeti $1.98, aylik maliyeti $7.94\n",
      "    G2 islemcisisinin haftalik maliyeti $1.57, aylik maliyeti $6.28\n",
      "\n"
     ]
    }
   ],
   "source": [
    "# Cloud Masraf Hesaplama Programi\n",
    "# https://cloud.google.com/colab/pricing\n",
    "\n",
    "cpuN1 = 0.049617\n",
    "cpuN2 = 0.049617\n",
    "cpuE2 = 0.034235\n",
    "cpuA2 = 0.049617\n",
    "cpuG2 = 0.039221\n",
    "\n",
    "# Haftada 5 gun, gunde 8 saat calissam...\n",
    "\n",
    "WorkHoursInADay = 8\n",
    "WorkDays = 5\n",
    "\n",
    "WorkHourWeekly = WorkHoursInADay * WorkDays\n",
    "\n",
    "weeklyCostN1 = WorkHourWeekly * cpuN1\n",
    "weeklyCostN2 = WorkHourWeekly * cpuN2\n",
    "weeklyCostE2 = WorkHourWeekly * cpuE2\n",
    "weeklyCostA2 = WorkHourWeekly * cpuA2\n",
    "weeklyCostG2 = WorkHourWeekly * cpuG2\n",
    "\n",
    "monthlyCostN1 = weeklyCostN1 * 4\n",
    "monthlyCostN2 = weeklyCostN2 * 4\n",
    "monthlyCostE2 = weeklyCostE2 * 4\n",
    "monthlyCostA2 = weeklyCostA2 * 4\n",
    "monthlyCostG2 = weeklyCostG2 * 4\n",
    "\n",
    "print(f\"\"\"\n",
    "    N1 islemcisisinin haftalik maliyeti ${weeklyCostN1}, aylik maliyeti ${monthlyCostN1},\n",
    "    N2 islemcisisinin haftalik maliyeti ${weeklyCostN2}, aylik maliyeti ${monthlyCostN2}\n",
    "    E2 islemcisisinin haftalik maliyeti ${weeklyCostE2}, aylik maliyeti ${monthlyCostE2}\n",
    "    A2 islemcisisinin haftalik maliyeti ${weeklyCostA2}, aylik maliyeti ${monthlyCostA2}\n",
    "    G2 islemcisisinin haftalik maliyeti ${weeklyCostG2}, aylik maliyeti ${monthlyCostG2}\n",
    "\"\"\")\n",
    "\n",
    "# \"%.2f\" % \n",
    "# https://www.freecodecamp.org/news/2f-in-python-what-does-it-mean/\n",
    "\n",
    "print(f\"\"\"\n",
    "    N1 islemcisisinin haftalik maliyeti ${\"%.2f\" % weeklyCostN1}, aylik maliyeti ${\"%.2f\" % monthlyCostN1},\n",
    "    N2 islemcisisinin haftalik maliyeti ${\"%.2f\" % weeklyCostN2}, aylik maliyeti ${\"%.2f\" % monthlyCostN2}\n",
    "    E2 islemcisisinin haftalik maliyeti ${\"%.2f\" % weeklyCostE2}, aylik maliyeti ${\"%.2f\" % monthlyCostE2}\n",
    "    A2 islemcisisinin haftalik maliyeti ${\"%.2f\" % weeklyCostA2}, aylik maliyeti ${\"%.2f\" % monthlyCostA2}\n",
    "    G2 islemcisisinin haftalik maliyeti ${\"%.2f\" % weeklyCostG2}, aylik maliyeti ${\"%.2f\" % monthlyCostG2}\n",
    "\"\"\")\n",
    "\n",
    "# Hoca direkt floatu int'e cevirerek hatali hesaplama ornegi yapti, cok farkettigini gosterdi.\n",
    "# Tip donusumleri bitti."
   ]
  },
  {
   "cell_type": "code",
   "execution_count": null,
   "metadata": {},
   "outputs": [],
   "source": [
    "#Egzersiz\n",
    "\n"
   ]
  }
 ],
 "metadata": {
  "kernelspec": {
   "display_name": "h01_venv",
   "language": "python",
   "name": "python3"
  },
  "language_info": {
   "codemirror_mode": {
    "name": "ipython",
    "version": 3
   },
   "file_extension": ".py",
   "mimetype": "text/x-python",
   "name": "python",
   "nbconvert_exporter": "python",
   "pygments_lexer": "ipython3",
   "version": "3.12.1"
  }
 },
 "nbformat": 4,
 "nbformat_minor": 2
}
