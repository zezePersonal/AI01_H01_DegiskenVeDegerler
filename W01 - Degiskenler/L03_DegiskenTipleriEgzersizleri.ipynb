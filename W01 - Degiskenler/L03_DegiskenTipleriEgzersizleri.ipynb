{
 "cells": [
  {
   "cell_type": "markdown",
   "metadata": {},
   "source": [
    "## Egzersizler"
   ]
  },
  {
   "cell_type": "code",
   "execution_count": 5,
   "metadata": {},
   "outputs": [
    {
     "name": "stdout",
     "output_type": "stream",
     "text": [
      "test\n"
     ]
    }
   ],
   "source": [
    "print(\"test\")"
   ]
  },
  {
   "cell_type": "code",
   "execution_count": 7,
   "metadata": {},
   "outputs": [
    {
     "name": "stdout",
     "output_type": "stream",
     "text": [
      "1.0\n",
      "<class 'float'>\n",
      "1\n",
      "<class 'int'>\n"
     ]
    }
   ],
   "source": [
    "# Soru 1\n",
    "'''\n",
    "    1.0 degeri float bir deger tanimlayin, bir degiskene atayin, yazdirin ve sonra degiskeninin tipini yazdirin\n",
    "'''\n",
    "\n",
    "var1 = 1.0\n",
    "print(var1)\n",
    "print(type(var1))\n",
    "\n",
    "var1_int = int(var1)\n",
    "print(var1_int)\n",
    "print(type(var1_int))"
   ]
  },
  {
   "cell_type": "code",
   "execution_count": 8,
   "metadata": {},
   "outputs": [
    {
     "data": {
      "text/plain": [
       "'\\n    Asagidaki degiskenlerin mantigina gore tip donusumlerini gerceklestirin.    \\n'"
      ]
     },
     "execution_count": 8,
     "metadata": {},
     "output_type": "execute_result"
    }
   ],
   "source": [
    "# Soru 2\n",
    "'''\n",
    "    Asagidaki degiskenlerin mantigina gore tip donusumlerini gerceklestirin.    \n",
    "'''"
   ]
  },
  {
   "cell_type": "code",
   "execution_count": 9,
   "metadata": {},
   "outputs": [
    {
     "name": "stdout",
     "output_type": "stream",
     "text": [
      "<class 'str'>\n",
      "<class 'float'>\n",
      "<class 'int'>\n"
     ]
    }
   ],
   "source": [
    "tckn = 34512345353  # to_string\n",
    "ev_fiyati = 120000  # to_float\n",
    "cocuk_sayisi = 3.5  # to_int\n",
    "\n",
    "n_tckn = str(tckn)\n",
    "n_ev_fiyati = float(ev_fiyati)\n",
    "n_cocuk_sayisi = int(cocuk_sayisi)\n",
    "\n",
    "print(type(n_tckn))\n",
    "print(type(n_ev_fiyati))\n",
    "print(type(n_cocuk_sayisi))"
   ]
  },
  {
   "cell_type": "code",
   "execution_count": 20,
   "metadata": {},
   "outputs": [
    {
     "name": "stdout",
     "output_type": "stream",
     "text": [
      "120000.0\n",
      "190000.0\n"
     ]
    }
   ],
   "source": [
    "# Soru 3\n",
    "'''\n",
    "    Benim evimin masrafini bulmak istiyoruz\n",
    "    salon sayisi, banyo sayisi, bodrum var mi gibilerinden\n",
    "\n",
    "    Soru hocada\n",
    "\n",
    "    Base 80k\n",
    "    yatak otadasi 30k\n",
    "    banyo 10k\n",
    "    bodrum 40k\n",
    "\n",
    "    ornekler var\n",
    "'''\n",
    "\n",
    "price_base = 80000.\n",
    "price_bedroom = 30000.\n",
    "price_bathroom = 10000.\n",
    "price_basement = 40000.\n",
    "\n",
    "n_base = True\n",
    "n_bedroom = 1\n",
    "n_bathroom = 1\n",
    "n_basement = False\n",
    "\n",
    "ex1 = n_base*price_base + n_bedroom*price_bedroom + n_bathroom*price_bathroom + n_basement*price_basement\n",
    "print(ex1)\n",
    "\n",
    "n_base = True\n",
    "n_bedroom = 2\n",
    "n_bathroom = 1\n",
    "n_basement = True\n",
    "\n",
    "ex2 = n_base*price_base + n_bedroom*price_bedroom + n_bathroom*price_bathroom + n_basement*price_basement\n",
    "print(ex2)"
   ]
  },
  {
   "cell_type": "code",
   "execution_count": 19,
   "metadata": {},
   "outputs": [
    {
     "name": "stdout",
     "output_type": "stream",
     "text": [
      "<class 'float'>\n",
      "3.14\n"
     ]
    }
   ],
   "source": [
    "i:int = 3.14  # seklinde kullanim var, informative amacli gibi, floatu degistirmiyor\n",
    "print(type(i))\n",
    "print(i)"
   ]
  },
  {
   "cell_type": "code",
   "execution_count": null,
   "metadata": {},
   "outputs": [],
   "source": []
  }
 ],
 "metadata": {
  "kernelspec": {
   "display_name": "h01_venv",
   "language": "python",
   "name": "python3"
  },
  "language_info": {
   "codemirror_mode": {
    "name": "ipython",
    "version": 3
   },
   "file_extension": ".py",
   "mimetype": "text/x-python",
   "name": "python",
   "nbconvert_exporter": "python",
   "pygments_lexer": "ipython3",
   "version": "3.12.1"
  }
 },
 "nbformat": 4,
 "nbformat_minor": 2
}
